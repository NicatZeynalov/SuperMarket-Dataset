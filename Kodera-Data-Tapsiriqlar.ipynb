{
 "cells": [
  {
   "cell_type": "markdown",
   "metadata": {},
   "source": [
    "# Kodera - Data Analitikası praktiki tapşırıqlar\n",
    "\n",
    "Tapşırıqların çətinlik dərəcəsi asandan - çətinədir və bir çox tapşırıqlar yeni başlayanlar, \n",
    "az təcrübəsi olanlar üçün nəzərdə tutulmuşdur. Bəzi tapşırıqlar, yaxşı kodlama bacarığı ilə \n",
    "yanaşı, problemə praqmatik yanaşma tələb edir. 25 tapşırıqdan ibarət olan bu use-case i həll \n",
    "etmək üçün sizə 2019 cu il ərzində supermarketin 20 filialı üzrə alış - veriş edən 80.000 \n",
    "alıcının almış olduğu 438.826 məhsulun verilənlərini özündə ehtiva edən dataset mövcuddur.\n",
    "\n",
    "Dataseti əldə etmək üçün: https://data.world/zenijat1663/supermarket-dataset\n",
    "\n",
    "Müəllif Nicat Zeynalovdur.\n",
    "\n",
    "© 2020 Kodera. Bütün hüquqlar qorunur."
   ]
  },
  {
   "cell_type": "markdown",
   "metadata": {},
   "source": [
    "### Tapşrıq 1.\n",
    "\n",
    "Üç və daha çox məhsul alan müştərilərin neçə faizi alış veriş zamanı bonus kartdan istifadə edib?"
   ]
  },
  {
   "cell_type": "code",
   "execution_count": null,
   "metadata": {},
   "outputs": [],
   "source": []
  },
  {
   "cell_type": "markdown",
   "metadata": {},
   "source": [
    "### Tapşrıq 2.\n",
    "\n",
    "Datasetdə bəzi yerlərdə məhsul adları yoxdur -çatışmayan verilənlər mövcuddur, zəhmət olmasa çatışmayan verilənləri ən optimal alternativlə əvəzləyərək, problem həll edin."
   ]
  },
  {
   "cell_type": "code",
   "execution_count": null,
   "metadata": {},
   "outputs": [],
   "source": []
  },
  {
   "cell_type": "markdown",
   "metadata": {},
   "source": [
    "### Tapşrıq 3.\n",
    "\n",
    "Hər market üzrə bir müştərinin orta hesabla neçə məhsul aldığını öyrənə bilərik mi?"
   ]
  },
  {
   "cell_type": "code",
   "execution_count": null,
   "metadata": {},
   "outputs": [],
   "source": []
  },
  {
   "cell_type": "markdown",
   "metadata": {},
   "source": [
    "### Tapşrıq 4.\n",
    "\n",
    "İl ərzində ən çox satılan top 10 məhsulu və satış sayını hazırlayın."
   ]
  },
  {
   "cell_type": "code",
   "execution_count": null,
   "metadata": {},
   "outputs": [],
   "source": []
  },
  {
   "cell_type": "markdown",
   "metadata": {},
   "source": [
    "### Tapşrıq 5.\n",
    "\n",
    "Zəhmət olmasa, yeni dataset yaradın və bu datasetdə yalnız satış kodu və hər satış zamanı marketə edilən ödəniş mövcud olsun."
   ]
  },
  {
   "cell_type": "code",
   "execution_count": null,
   "metadata": {},
   "outputs": [],
   "source": []
  },
  {
   "cell_type": "markdown",
   "metadata": {},
   "source": [
    "### Tapşrıq 6.\n",
    "\n",
    "Mən datasetə göz gəzdirdim, “Sərfəli yaz” kompaniyamızda ə hərfləri əvəzinə sual işarəsi görünür. Zəhnət olmasa, bu problem həll edin."
   ]
  },
  {
   "cell_type": "code",
   "execution_count": null,
   "metadata": {},
   "outputs": [],
   "source": []
  },
  {
   "cell_type": "markdown",
   "metadata": {},
   "source": [
    "### Tapşrıq 7.\n",
    "\n",
    "Xahiş edirəm, ötən il tətbiq etdiyimiz endirim kompaniyalarının hansının daha uğurlu olduğunu əks etdirən qrafik hazırlayın. Yəni, müştərilərimiz ən çox hansı kompaniyamızdan yararlanıb?"
   ]
  },
  {
   "cell_type": "code",
   "execution_count": null,
   "metadata": {},
   "outputs": [],
   "source": []
  },
  {
   "cell_type": "markdown",
   "metadata": {},
   "source": [
    "### Tapşrıq 8.\n",
    "\n",
    "Bəzi alıcılar kompotların qiymətlərinin baha olduğunu bildirirlər. Zəhmət olmasa, bizdə satılan bütün kompot növlərinin qiymətini və ümumi satış sayını cədvəl şəklində hazırlayın."
   ]
  },
  {
   "cell_type": "code",
   "execution_count": null,
   "metadata": {},
   "outputs": [],
   "source": []
  },
  {
   "cell_type": "markdown",
   "metadata": {},
   "source": [
    "### Tapşrıq 10.\n",
    "\n",
    "Ötən ilki Novruz endirim kompaniyamıza baxaq, görək, müştərilər daha çox hansı kateqoriyadan olan məhsulları alıblar, bu il də onlara üstünlük verək. Mmm, yaxşı olardı ki, hansı məhsullarla birlikdə, bu məhsullar hansı filiallarımızdan nə qədər alınıb, bunu da bilək ki, həmin filiallara o məhsulları daha çox stoklayaq. Müəllim, bu ikisini zəhmət olmasa, birlikdə bizə asan başa düşülən qrafik şəklində hazırlayardız.\n"
   ]
  },
  {
   "cell_type": "code",
   "execution_count": null,
   "metadata": {},
   "outputs": [],
   "source": []
  },
  {
   "cell_type": "markdown",
   "metadata": {},
   "source": [
    "### Tapşrıq 11.\n",
    "\n",
    "Öyrənməyimiz yaxşı olardı ki, fəsillər üzrə hansı məhsul kateqoriyasına aid məhsullar daha çox satılıb? Bu məlumat, bu il çox faydalı olar.\n"
   ]
  },
  {
   "cell_type": "code",
   "execution_count": null,
   "metadata": {},
   "outputs": [],
   "source": []
  },
  {
   "cell_type": "markdown",
   "metadata": {},
   "source": [
    "### Tapşrıq 12.\n",
    "\n",
    "Bu sevindiricidirki, müştərilərimizin əksəriyyəti bonus kartdan istifadə edir, lakin bəzi marketlərimdə bonus kartla alış – veriş edənlərin sayı azdır. Bütün marketlərimiz üzrə il ərzində bonus kartla satış sayını və mağaza adlarını bir cədvəldə hazırlayın. Bonus kartla satış sayını azdan çoxa sıralayın ki, az olan marketlərimizdə bonus karta cəlb edən reklam lövhələri asaq.\n"
   ]
  },
  {
   "cell_type": "code",
   "execution_count": null,
   "metadata": {},
   "outputs": [],
   "source": []
  },
  {
   "cell_type": "markdown",
   "metadata": {},
   "source": [
    "### Tapşrıq 13.\n",
    "\n",
    "Zəhmət olmasa,radiozavod mağazamızda il ərzində 40+ azn alış-veriş edən müştərilərin sayının aylardan asılılığını qrafik şəklində göstərin."
   ]
  },
  {
   "cell_type": "code",
   "execution_count": null,
   "metadata": {},
   "outputs": [],
   "source": []
  },
  {
   "cell_type": "markdown",
   "metadata": {},
   "source": [
    "### Tapşrıq 14.\n",
    "\n",
    "Mənə elə gəlir ki, əksər müştərilərimiz daha ucuz məhsullar aldıqda bonus kartdan istifadəyə elə də maraqlı deyillər. Zəhmət olmasa, məhsul qiyməti ilə bonus kartı arasında hər hansı korrelyasiya olub-olmadığını mənə bildirin."
   ]
  },
  {
   "cell_type": "code",
   "execution_count": null,
   "metadata": {},
   "outputs": [],
   "source": []
  },
  {
   "cell_type": "markdown",
   "metadata": {},
   "source": [
    "### Tapşrıq 15.\n",
    "\n",
    "Bütün filiallarımızın fasadına hər kateqoriyadan bir məhsul olmaqla məhsullarımızın reklam lövhələrini quraşdıracağıq, lakin daha faydalı olar ki, ötən il ərzində hər bir filialımızdan hər bir kateqoriya üzrə ən çox hansı məhsul alınıbsa, həmin filialımızın reklam lövhəsinə o məhsulu əlavə edək."
   ]
  },
  {
   "cell_type": "code",
   "execution_count": null,
   "metadata": {},
   "outputs": [],
   "source": []
  },
  {
   "cell_type": "markdown",
   "metadata": {},
   "source": [
    "### Tapşrıq 16.\n",
    "\n",
    "Bildiyiniz kimi, keçən il Azgranata şirkəti ilə tərəfdaşlıq müqaviləsi imzalaşıq ki, bu müqaviləyə əsasən ötən il mağazalarımızda VITA 1000 şirələrinin satışını həyata keçirdik. Bu ilki sifariş sayını müəyyənləşdirmək üçün ötənilki məlumatlardan istifadə labüddür, zəhmət olmasa Meyvə Şirələri kateqoriyası üzrə ümumi satışın neçə faizinin VITA 1000 şirələrinin payına düşdüyünü piechart şəklində göstərin. Lakin diqqətli olun, digər məhsulların daxilində də VITA sözü mövcud olduğundan yanlış nəticə ola bilər, bizə yalnız VITA 1000 şirələrinin satış faizi gərəklidir."
   ]
  },
  {
   "cell_type": "code",
   "execution_count": null,
   "metadata": {},
   "outputs": [],
   "source": []
  },
  {
   "cell_type": "markdown",
   "metadata": {},
   "source": [
    "### Tapşrıq 17.\n",
    "\n",
    "Datasetdə satış tarixlərindən istifadə edərək, həftə günlərini müəyyən edə bilərsiz? Elə yaxşı olar ki, yeni sütun olaraq həftə günləri yaradasız."
   ]
  },
  {
   "cell_type": "code",
   "execution_count": null,
   "metadata": {},
   "outputs": [],
   "source": []
  },
  {
   "cell_type": "markdown",
   "metadata": {},
   "source": [
    "### Tapşrıq 18.\n",
    "\n",
    "Bizim 24 saat açıq filiallarımızda gecə kifayət qədər satış yoxdursa gecə növbəsin ləğv edək. Zəhmət olmasa, ümumilikdə il ərzində gecə 23:00-dan səhər 06:00 -a qədərhansı marketimizdə neçə manatlıq satış olduğunu bizə qrafik şəklində göstərin. Yaxşı olardı ki, qrafikdə mağazalar satış nəticələrinə görə üç kateqoriyaya : yaxşı, orta, pis olaraq bölünsün."
   ]
  },
  {
   "cell_type": "code",
   "execution_count": null,
   "metadata": {},
   "outputs": [],
   "source": []
  },
  {
   "cell_type": "markdown",
   "metadata": {},
   "source": [
    "### Tapşrıq 19.\n",
    "\n",
    "Data əsasında alınma ehtimalı 50%-dən çox olan məhsul kombinasiyalarını bizə bildirin, zəhmət olmasa."
   ]
  },
  {
   "cell_type": "code",
   "execution_count": null,
   "metadata": {},
   "outputs": [],
   "source": []
  },
  {
   "cell_type": "markdown",
   "metadata": {},
   "source": [
    "### Tapşrıq 20.\n",
    "\n",
    "Endirim kampaniyaları çərçivəsində hansı məhsul kateqoriyası liderlik edib? Zəhmət olmasa, hər bir kampaniya üçün ayrılıqda olmaqla məsələni həll edin"
   ]
  },
  {
   "cell_type": "code",
   "execution_count": null,
   "metadata": {},
   "outputs": [],
   "source": []
  },
  {
   "cell_type": "markdown",
   "metadata": {},
   "source": [
    "### Tapşrıq 21.\n",
    "\n",
    "Ümumi il ərzində üzrə ən çox satış hansı mağazada reallaşıb?"
   ]
  },
  {
   "cell_type": "code",
   "execution_count": null,
   "metadata": {},
   "outputs": [],
   "source": []
  },
  {
   "cell_type": "markdown",
   "metadata": {},
   "source": [
    "### Tapşrıq 22.\n",
    "\n",
    "2019-cu il ərzində aylar üzrə ortalama satışın göstəriciləri neçədir?"
   ]
  },
  {
   "cell_type": "code",
   "execution_count": null,
   "metadata": {},
   "outputs": [],
   "source": []
  },
  {
   "cell_type": "markdown",
   "metadata": {},
   "source": [
    "### Tapşrıq 23.\n",
    "\n",
    "Bonus kartı olan və olmayan müştərilər üzrə ortalama satış miqdarı neçədir?"
   ]
  },
  {
   "cell_type": "code",
   "execution_count": null,
   "metadata": {},
   "outputs": [],
   "source": []
  },
  {
   "cell_type": "markdown",
   "metadata": {},
   "source": [
    "### Tapşrıq 24.\n",
    "\n",
    "Bütün mağazaları illik satış göstəricilərinə əsasən real xəritədə vizuallaşdır. Görək, hansı mağazamızın yerləşdiyi ərazi daha uyğundur."
   ]
  },
  {
   "cell_type": "code",
   "execution_count": null,
   "metadata": {},
   "outputs": [],
   "source": []
  },
  {
   "cell_type": "markdown",
   "metadata": {},
   "source": [
    "### Tapşrıq 25.\n",
    "\n",
    "Keçən il mağazalarımıza mütamadi çörək təchizatı ilə bağlı problem yaşayırdıq. Bir çox halarda, müştərilərin çox olan vaxtında artıq çörəklər bitmiş olur, bəzən isə uyğun olmayan vaxtda gətirilən çörəklər növbəti günə qalırdı. Bu il bu problemin yaranmasını istəmirəm, zəhmət olmasa ötən il hər bir filial üzrə 3 saatdan bir neçə çörək satıldığını qrafik və ya cədvəl şəklində hazırlayın."
   ]
  },
  {
   "cell_type": "code",
   "execution_count": null,
   "metadata": {},
   "outputs": [],
   "source": []
  },
  {
   "cell_type": "markdown",
   "metadata": {},
   "source": [
    "### Bonus tapşırıq.\n",
    "\n",
    "foursquare API – dən istifadə edərək, marketlərimizin olduğu ərazidə mövcud market sıxlığını xəritə üzərində vizuallaşdırın."
   ]
  },
  {
   "cell_type": "code",
   "execution_count": null,
   "metadata": {},
   "outputs": [],
   "source": []
  }
 ],
 "metadata": {
  "kernelspec": {
   "display_name": "Python 3",
   "language": "python",
   "name": "python3"
  },
  "language_info": {
   "codemirror_mode": {
    "name": "ipython",
    "version": 3
   },
   "file_extension": ".py",
   "mimetype": "text/x-python",
   "name": "python",
   "nbconvert_exporter": "python",
   "pygments_lexer": "ipython3",
   "version": "3.7.4"
  }
 },
 "nbformat": 4,
 "nbformat_minor": 2
}
